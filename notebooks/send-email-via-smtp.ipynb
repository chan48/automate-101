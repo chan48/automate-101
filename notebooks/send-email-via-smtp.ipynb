{
 "cells": [
  {
   "cell_type": "code",
   "execution_count": 1,
   "metadata": {
    "collapsed": true
   },
   "outputs": [],
   "source": [
    "# https://docs.python.org/3/library/smtplib.html\n",
    "\n",
    "import os\n",
    "\n",
    "import smtplib\n",
    "from email.mime.text import MIMEText"
   ]
  },
  {
   "cell_type": "code",
   "execution_count": 2,
   "metadata": {
    "collapsed": false
   },
   "outputs": [],
   "source": [
    "smtp_host = \"smtp.naver.com\"\n",
    "smtp_port = 465\n",
    "\n",
    "smtp_username = os.environ.get(\"NAVER_USERNAME\")\n",
    "smtp_password = os.environ.get(\"NAVER_PASSWORD\")"
   ]
  },
  {
   "cell_type": "code",
   "execution_count": 3,
   "metadata": {
    "collapsed": false
   },
   "outputs": [
    {
     "data": {
      "text/plain": [
       "(235, b'2.7.0 Accepted RvBbaPuxS5KHNdPWYHleTw - nsmtp')"
      ]
     },
     "execution_count": 3,
     "metadata": {},
     "output_type": "execute_result"
    }
   ],
   "source": [
    "smtp = smtplib.SMTP_SSL(smtp_host, 465)\n",
    "smtp.login(smtp_username, smtp_password)"
   ]
  },
  {
   "cell_type": "code",
   "execution_count": 4,
   "metadata": {
    "collapsed": true
   },
   "outputs": [],
   "source": [
    "sender = \"dobestan@naver.com\"\n",
    "receiver = \"dobestan@gmail.com\""
   ]
  },
  {
   "cell_type": "code",
   "execution_count": 5,
   "metadata": {
    "collapsed": false
   },
   "outputs": [],
   "source": [
    "msg = MIMEText(\"이메일 테스트 본문\", _charset='euc-kr')\n",
    "\n",
    "msg['Subject'] = \"이메일 테스트 제목\"\n",
    "msg['From'] = sender\n",
    "msg['To'] = receiver"
   ]
  },
  {
   "cell_type": "code",
   "execution_count": 6,
   "metadata": {
    "collapsed": false
   },
   "outputs": [
    {
     "data": {
      "text/plain": [
       "'Content-Type: text/plain; charset=\"euc-kr\"\\nMIME-Version: 1.0\\nContent-Transfer-Encoding: base64\\nSubject: =?utf-8?b?7J2066mU7J28IO2FjOyKpO2KuCDsoJzrqqk=?=\\nFrom: dobestan@naver.com\\nTo: dobestan@gmail.com\\n\\nwMy43sDPIMXXvbrGriC6u7mu\\n'"
      ]
     },
     "execution_count": 6,
     "metadata": {},
     "output_type": "execute_result"
    }
   ],
   "source": [
    "msg.as_string()"
   ]
  },
  {
   "cell_type": "code",
   "execution_count": 7,
   "metadata": {
    "collapsed": false,
    "scrolled": true
   },
   "outputs": [
    {
     "data": {
      "text/plain": [
       "(221, b'2.0.0 Closing connection RvBbaPuxS5KHNdPWYHleTw - nsmtp')"
      ]
     },
     "execution_count": 7,
     "metadata": {},
     "output_type": "execute_result"
    }
   ],
   "source": [
    "smtp.sendmail(\n",
    "    sender,\n",
    "    receiver,\n",
    "    msg.as_string(),\n",
    ")\n",
    "smtp.quit()"
   ]
  }
 ],
 "metadata": {
  "kernelspec": {
   "display_name": "Python 3",
   "language": "python",
   "name": "python3"
  },
  "language_info": {
   "codemirror_mode": {
    "name": "ipython",
    "version": 3
   },
   "file_extension": ".py",
   "mimetype": "text/x-python",
   "name": "python",
   "nbconvert_exporter": "python",
   "pygments_lexer": "ipython3",
   "version": "3.5.1"
  }
 },
 "nbformat": 4,
 "nbformat_minor": 0
}
